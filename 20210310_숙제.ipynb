{
  "nbformat": 4,
  "nbformat_minor": 0,
  "metadata": {
    "colab": {
      "name": "20210310-숙제",
      "provenance": [],
      "collapsed_sections": [],
      "authorship_tag": "ABX9TyOUXp/yLsncg0vJADwDcFYu",
      "include_colab_link": true
    },
    "kernelspec": {
      "name": "python3",
      "display_name": "Python 3"
    }
  },
  "cells": [
    {
      "cell_type": "markdown",
      "metadata": {
        "id": "view-in-github",
        "colab_type": "text"
      },
      "source": [
        "<a href=\"https://colab.research.google.com/github/matrix1970/python1/blob/main/20210310_%EC%88%99%EC%A0%9C.ipynb\" target=\"_parent\"><img src=\"https://colab.research.google.com/assets/colab-badge.svg\" alt=\"Open In Colab\"/></a>"
      ]
    },
    {
      "cell_type": "code",
      "metadata": {
        "colab": {
          "base_uri": "https://localhost:8080/"
        },
        "id": "l3Pgg_j9RnDr",
        "outputId": "3180217e-cb88-470e-b523-33bd5acffb71"
      },
      "source": [
        "start = \"용인\"\r\n",
        "end = \"군산\"\r\n",
        "hour = 8\r\n",
        "minute = 20\r\n",
        "print(start,\"에서\",end,\"(으)로 가는 \",hour,\"시\",minute,\"분 고속버스입니다.\")"
      ],
      "execution_count": 2,
      "outputs": [
        {
          "output_type": "stream",
          "text": [
            "용인 에서 군산 (으)로 가는  8 시 20 분 고속버스입니다.\n"
          ],
          "name": "stdout"
        }
      ]
    },
    {
      "cell_type": "code",
      "metadata": {
        "colab": {
          "base_uri": "https://localhost:8080/"
        },
        "id": "N3UhS4mqS5jo",
        "outputId": "5f1c7c40-d38e-4976-d6ab-506a3dfebe68"
      },
      "source": [
        "a = b = c = 0\r\n",
        "print(\"변수 a=\",a,\", b=\",b,\", c=\",c,\"으로 초기화 되었습니다.\")"
      ],
      "execution_count": 3,
      "outputs": [
        {
          "output_type": "stream",
          "text": [
            "변수 a= 0 , b= 0 , c= 0 으로 초기화 되었습니다.\n"
          ],
          "name": "stdout"
        }
      ]
    },
    {
      "cell_type": "code",
      "metadata": {
        "colab": {
          "base_uri": "https://localhost:8080/"
        },
        "id": "D9KPs9kIUIyM",
        "outputId": "9ce75b08-6692-4cd5-9d9c-f36ed536d949"
      },
      "source": [
        "a,b = 68, 53\r\n",
        "a, b = b, a\r\n",
        "print(\"변수 a=\",a,\", b=\",b,\"의 값이 저장되어 있습니다.\")"
      ],
      "execution_count": 9,
      "outputs": [
        {
          "output_type": "stream",
          "text": [
            "변수 a= 53 , b= 68 의 값이 저장되어 있습니다.\n"
          ],
          "name": "stdout"
        }
      ]
    },
    {
      "cell_type": "code",
      "metadata": {
        "colab": {
          "base_uri": "https://localhost:8080/"
        },
        "id": "f_s1RK6GWe89",
        "outputId": "dbab5f3d-1092-41f4-81c8-f23f7129658d"
      },
      "source": [
        "man = 25\r\n",
        "woman = 15\r\n",
        "print(\"남자:\",man,\"명, 여자:\",woman,\"명, 합계:\",man+woman,\"명\")"
      ],
      "execution_count": 10,
      "outputs": [
        {
          "output_type": "stream",
          "text": [
            "남자: 25 명, 여자: 15 명, 합계: 40 명\n"
          ],
          "name": "stdout"
        }
      ]
    },
    {
      "cell_type": "code",
      "metadata": {
        "colab": {
          "base_uri": "https://localhost:8080/"
        },
        "id": "1PgJH5qlVMLb",
        "outputId": "ed8a6506-45df-4e63-b27b-5cdc610a356f"
      },
      "source": [
        "std1, std2, std3 = 'kim', 'lee', 'yun'\r\n",
        "std1, std2, std3 = std2, std3, std1\r\n",
        "print(\"std1='\",std1,\"', std2='\",std2,\"', std3='\",std3,\"'\",sep=\"\")"
      ],
      "execution_count": 12,
      "outputs": [
        {
          "output_type": "stream",
          "text": [
            "std1='lee', std2='yun', std3='kim'\n"
          ],
          "name": "stdout"
        }
      ]
    }
  ]
}